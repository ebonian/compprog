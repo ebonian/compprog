{
 "cells": [
  {
   "cell_type": "markdown",
   "metadata": {
    "id": "xaO6ydwuTSae"
   },
   "source": [
    "# Assignment #3: Movie Dictionary Database\n",
    "\n",
    "In this problem, we aim to load movie data into a dictionary and summarize it by genre.\n",
    "\n",
    "Please read all the details [here](https://docs.google.com/document/d/1FGQUzzsBuDdVCoW7nJG6IHDnlbJd58Q9BS76gMlS01A/edit?usp=sharing)."
   ]
  },
  {
   "cell_type": "markdown",
   "metadata": {
    "id": "YAq-m9r53V0E"
   },
   "source": [
    "# **Important**\n",
    "- Do not delete or modify the first line in the given code cell.\n",
    "- You work must be add in the provided area only. \n",
    "- You must not change the declaration of the provided functions.\n",
    "- You are allowed to add your own functions.\n",
    "- If you want to write your own program to test, add new code cell at the very end of the file and add your code there.\n"
   ]
  },
  {
   "cell_type": "code",
   "execution_count": 2,
   "metadata": {
    "id": "-CyvL6w9BEEu"
   },
   "outputs": [
    {
     "name": "stderr",
     "output_type": "stream",
     "text": [
      "  % Total    % Received % Xferd  Average Speed   Time    Time     Time  Current\n",
      "                                 Dload  Upload   Total   Spent    Left  Speed\n",
      "\n",
      "  0     0    0     0    0     0      0      0 --:--:-- --:--:-- --:--:--     0\n",
      "100  269k  100  269k    0     0   994k      0 --:--:-- --:--:-- --:--:--  999k\n"
     ]
    }
   ],
   "source": [
    "# Full data (import_movies.redis)\n",
    "!curl https://raw.githubusercontent.com/redis-developer/redis-datasets/movie-dataset/movie-database/import_movies.redis > import_movies.redis\n",
    "\n",
    "file = open(\"import_movies.redis\", encoding='utf8')\n",
    "lines = file.readlines()\n",
    "file.close()"
   ]
  },
  {
   "cell_type": "code",
   "execution_count": 3,
   "metadata": {
    "id": "Wo7aBYsTBak0"
   },
   "outputs": [],
   "source": [
    "# Small sample data (import_movies_small.redis)\n",
    "# !curl https://dl.dropboxusercontent.com/s/id6d0qq7ks5y4b3/import_movies_small.redis > import_movies_small.redis\n",
    "\n",
    "# file = open(\"import_movies_small.redis\", encoding='utf8')\n",
    "# lines = file.readlines()\n",
    "# file.close()"
   ]
  },
  {
   "cell_type": "code",
   "execution_count": 4,
   "metadata": {
    "id": "a5V__-HASKdD"
   },
   "outputs": [
    {
     "data": {
      "text/plain": [
       "['HSET \"movie:1\" title \"Guardians of the Galaxy\" genre \"Action\" votes 704613 rating 8.1 release_year 2014 plot \"A group of intergalactic criminals must pull together to stop a fanatical warrior with plans to purge the universe.\" poster \"https://m.media-amazon.com/images/M/MV5BMTAwMjU5OTgxNjZeQTJeQWpwZ15BbWU4MDUxNDYxODEx._V1_SX300.jpg\" ibmdb_id \"tt2015381\" \\n',\n",
       " 'HSET \"movie:2\" title \"Interstellar\" genre \"Adventure\" votes 961763 rating 8.6 release_year 2014 plot \"A team of explorers travel through a wormhole in space in an attempt to ensure humanity\\'s survival.\" poster \"https://m.media-amazon.com/images/M/MV5BZjdkOTU3MDktN2IxOS00OGEyLWFmMjktY2FiMmZkNWIyODZiXkEyXkFqcGdeQXVyMTMxODk2OTU@._V1_SX300.jpg\" ibmdb_id \"tt0816692\" \\n',\n",
       " 'HSET \"movie:3\" title \"The Grand Budapest Hotel\" genre \"Adventure\" votes 492158 rating 8.1 release_year 2014 plot \"A writer encounters the owner of an aging high-class hotel,who tells him of his early years serving as a lobby boy in the hotel\\'s glorious years under an exceptional concierge.\" poster \"https://m.media-amazon.com/images/M/MV5BMzM5NjUxOTEyMl5BMl5BanBnXkFtZTgwNjEyMDM0MDE@._V1_SX300.jpg\" ibmdb_id \"tt2278388\" \\n',\n",
       " 'HSET \"movie:4\" title \"Gone Girl\" genre \"Crime\" votes 589116 rating 8.1 release_year 2014 plot \"With his wife\\'s disappearance having become the focus of an intense media circus,a man sees the spotlight turned on him when it\\'s suspected that he may not be innocent.\" poster \"https://m.media-amazon.com/images/M/MV5BMTk0MDQ3MzAzOV5BMl5BanBnXkFtZTgwNzU1NzE3MjE@._V1_UX182_CR0,0,182,268_AL_.jpg\" ibmdb_id \"tt2267998\" \\n',\n",
       " 'HSET \"movie:5\" title \"The Imitation Game\" genre \"Biography\" votes 489175 rating 8.1 release_year 2014 \\n',\n",
       " 'HSET \"movie:6\" title \"John Wick\" genre \"Action\" votes 503014 rating 7.4 release_year 2014 plot \"An ex-hit-man comes out of retirement to track down the gangsters that killed his dog and took everything from him.\" poster \"https://m.media-amazon.com/images/M/MV5BMTU2NjA1ODgzMF5BMl5BanBnXkFtZTgwMTM2MTI4MjE@._V1_UX182_CR0,0,182,268_AL_.jpg\" ibmdb_id \"tt2911666\" \\n',\n",
       " 'HSET \"movie:7\" title \"X-Men: Days of Future Past\" genre \"Action\" votes 524078 rating 8.0 release_year 2014 \\n',\n",
       " 'HSET \"movie:8\" title \"Ouija: Origin of Evil\" genre \"Horror\" votes 6144 rating 6.6 release_year 2016 \\n',\n",
       " 'HSET \"movie:9\" title \"The Equalizer\" genre \"Action\" votes 235859 rating 7.2 release_year 2014 \\n',\n",
       " 'HSET \"movie:10\" title \"Maleficent\" genre \"Action\" votes 257707 rating 7.0 release_year 2014 \\n']"
      ]
     },
     "execution_count": 4,
     "metadata": {},
     "output_type": "execute_result"
    }
   ],
   "source": [
    "# # preview 10 movies\n",
    "lines[:10]"
   ]
  },
  {
   "cell_type": "code",
   "execution_count": 5,
   "metadata": {
    "id": "eDJ-MTlRPaut"
   },
   "outputs": [],
   "source": [
    "# MOVIE_DICTIONARY (*** DO NOT DELETE this line or add line before this ***)\n",
    "# Only add your code in the provided area.\n",
    "# DO NOT delete or modified the given code in main().\n",
    "\n",
    "def load_data_to_movie_dict(lines):\n",
    "  movies = dict()\n",
    "  # Your code here\n",
    "  for line in [line.replace(\"\\\\\", \"\").replace(\"\\n\", \"\").strip() for line in lines]:\n",
    "    list_of_line = []\n",
    "    current_char = ''\n",
    "    in_quotes = False\n",
    "    for char in line:\n",
    "      if char == ' ' and not in_quotes and current_char != '':\n",
    "        list_of_line.append(current_char.replace('\"', '').strip())\n",
    "        current_char = ''\n",
    "      elif char == '\"' and not in_quotes:\n",
    "        in_quotes = True\n",
    "        current_char += char\n",
    "      elif char == '\"' and in_quotes:\n",
    "        in_quotes = False\n",
    "        current_char += char\n",
    "      else: current_char += char\n",
    "    if (not len(current_char.strip()) == 1):\n",
    "      if (current_char.strip()[::len(current_char.strip()) - 1] == '\"\"'):\n",
    "        list_of_line.append(current_char.strip()[1:-1:])\n",
    "      else: list_of_line.append(current_char.strip())\n",
    "    else: list_of_line.append(current_char.strip())\n",
    "    movies[int(list_of_line[1][6:])] = dict(zip(list_of_line[2::2], list_of_line[3::2]))\n",
    "    movies[int(list_of_line[1][6:])]['votes'] = float(movies[int(list_of_line[1][6:])]['votes'])\n",
    "    movies[int(list_of_line[1][6:])]['rating'] = float(movies[int(list_of_line[1][6:])]['rating'])\n",
    "    movies[int(list_of_line[1][6:])]['release_year'] = int(movies[int(list_of_line[1][6:])]['release_year'])\n",
    "  return movies\n",
    "\n",
    "#------------------------------------------------------------#\n",
    "\n",
    "def summarize_movies_by_genre(movies):\n",
    "  movies_by_genre = dict()\n",
    "  # Your code here\n",
    "  movies_by_genre = {movies[movie_id]['genre']:[] for movie_id in movies}\n",
    "  for movie_id in movies:\n",
    "    movies_by_genre[movies[movie_id]['genre']].append(movie_id)\n",
    "    movies_by_genre[movies[movie_id]['genre']] = sorted(movies_by_genre[movies[movie_id]['genre']])\n",
    "  return movies_by_genre\n",
    "\n",
    "#------------------------------------------------------------#\n",
    "\n",
    "def calcualte_genre_stats(movies, movies_by_genre):\n",
    "  genre_stats = dict()\n",
    "  # Your code here\n",
    "  movies_by_rating = {movies[movie_id]['genre']:[] for movie_id in movies}\n",
    "  movies_by_votes = {movies[movie_id]['genre']:[] for movie_id in movies}\n",
    "  for movie_id in movies:\n",
    "    genre = movies[movie_id]['genre']\n",
    "    movies_by_rating[genre].append(float(movies[movie_id]['rating']))\n",
    "    movies_by_votes[genre].append(float(movies[movie_id]['votes']))\n",
    "    genre_stats[genre] = {'num': len(movies_by_genre[genre]), 'rating': round(sum(movies_by_rating[genre]) / len(movies_by_rating[genre]), 2), 'votes': round(sum(movies_by_votes[genre]) / len(movies_by_votes[genre]), 2)}\n",
    "  return genre_stats\n",
    "\n",
    "#------------------------------------------------------------#    \n",
    "# DO NOT DELETE OR MODIFIED THE CODE BELOW\n",
    "#------------------------------------------------------------#\n",
    "\n",
    "from collections import OrderedDict\n",
    "\n",
    "# print \"data\" dict ordered by key\n",
    "# if top is blank, print all members in the data\n",
    "# if details is true, print detailed data\n",
    "#   ; otherwise, print only the number of attributes\n",
    "def print_ordered_dict(data, top='', details=True):\n",
    "  if top == '':\n",
    "    top = len(data)\n",
    "  sorted_ids = sorted(data.keys())[:top]\n",
    "\n",
    "  i = 0\n",
    "  for id in sorted_ids:\n",
    "    if details:\n",
    "      print(id, data[id])\n",
    "    else:\n",
    "      print(id, len(data[id]))\n",
    "\n",
    "#------------------------------------------------------------#\n",
    "# *** MAIN PART ****\n",
    "movies = load_data_to_movie_dict(lines)\n",
    "movies_by_genre = summarize_movies_by_genre(movies)\n",
    "genre_stats = calcualte_genre_stats(movies, movies_by_genre)"
   ]
  },
  {
   "cell_type": "markdown",
   "metadata": {
    "id": "eozJNmMD8hkv"
   },
   "source": [
    "# Test you code\n",
    "\n",
    "To speed up the testing of your program, some of test cases of some functions are given, but might not cover all possibilies.  You should add more test cases using provided test case as an example. \n",
    "\n",
    "Uncomment the test function that you want to test. You results should be similar to the expected output in [the Google Sheet here](https://docs.google.com/spreadsheets/d/1enpJps0zUN0SjZcgMPO9ijzgcDruyO2jsAHazWx1yhY/edit?usp=sharing).\n",
    "\n",
    "**Important!!!** You must run the above code cell without any error before running the test."
   ]
  },
  {
   "cell_type": "code",
   "execution_count": 6,
   "metadata": {
    "id": "V3r47d2Ge36M"
   },
   "outputs": [
    {
     "name": "stdout",
     "output_type": "stream",
     "text": [
      "923\n",
      "25\n"
     ]
    }
   ],
   "source": [
    "print(len(movies))\n",
    "# print_ordered_dict(data=movies, top=200, details=False) # print attributes (Google Sheet1)\n",
    "# print_ordered_dict(data=movies, top=200, details=True) # print data (Google Sheet2)\n",
    " \n",
    "print(len(movies_by_genre))\n",
    "# print_ordered_dict(data=movies_by_genre, top=5, details=False) # print attributes (Google Sheet3)\n",
    "# print_ordered_dict(data=movies_by_genre, top=5) # print data (Google Sheet4)\n",
    "# print_ordered_dict(data=genre_stats, top=5) # print data (Google Sheet5)"
   ]
  }
 ],
 "metadata": {
  "colab": {
   "collapsed_sections": [],
   "provenance": []
  },
  "kernelspec": {
   "display_name": "Python 3 (ipykernel)",
   "language": "python",
   "name": "python3"
  },
  "language_info": {
   "codemirror_mode": {
    "name": "ipython",
    "version": 3
   },
   "file_extension": ".py",
   "mimetype": "text/x-python",
   "name": "python",
   "nbconvert_exporter": "python",
   "pygments_lexer": "ipython3",
   "version": "3.9.12"
  },
  "vscode": {
   "interpreter": {
    "hash": "369f2c481f4da34e4445cda3fffd2e751bd1c4d706f27375911949ba6bb62e1c"
   }
  }
 },
 "nbformat": 4,
 "nbformat_minor": 1
}
