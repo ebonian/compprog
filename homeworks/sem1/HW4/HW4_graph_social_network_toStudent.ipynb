{
  "cells": [
    {
      "cell_type": "markdown",
      "metadata": {
        "id": "xaO6ydwuTSae"
      },
      "source": [
        "# Assignment #4: NumPy + A few tuples/lists\n",
        "\n",
        "\n"
      ]
    },
    {
      "cell_type": "markdown",
      "metadata": {
        "id": "tZly7h79NP4H"
      },
      "source": [
        "### In this assignment, we will practice on NumPy, Tuple, Set, Dict using social network use case. \n",
        "\n",
        "**Please read the explanation in \"H4.docx\"**"
      ]
    },
    {
      "cell_type": "markdown",
      "metadata": {
        "id": "YAq-m9r53V0E"
      },
      "source": [
        "# **Important**\n",
        "- Do not delete or modify the first line in the given code cell.\n",
        "- You work must be add in the provided area only. \n",
        "- You must not change the declaration of the provided functions.\n",
        "- You are allowed to add your own functions.\n",
        "- If you want to write your own program to test, add new code cell at the very end of the file and add your code there.\n"
      ]
    },
    {
      "cell_type": "code",
      "execution_count": 30,
      "metadata": {
        "id": "3-zuAAWzWzyu"
      },
      "outputs": [],
      "source": [
        "import numpy as np"
      ]
    },
    {
      "cell_type": "code",
      "execution_count": 31,
      "metadata": {
        "id": "i-ag1K690HGa"
      },
      "outputs": [],
      "source": [
        "# DO NOTE DELETE THIS CELL / WRITE YOUR CODE HERE\n",
        "# Task#1\n",
        "\n",
        "def generate_adjacency_matrix(filename):\n",
        "  # write your code here\n",
        "  network_lines = [line.replace(\"\\n\", \"\").split(\",\") for line in open(filename).readlines()]\n",
        "  person_names = sorted(set([item for sublist in network_lines for item in sublist]))\n",
        "  A = np.zeros((len(person_names), len(person_names)), int)\n",
        "  for line in network_lines:\n",
        "    A[person_names.index(line[0]), person_names.index(line[1])] = 1\n",
        "  return A, person_names"
      ]
    },
    {
      "cell_type": "code",
      "execution_count": 32,
      "metadata": {
        "colab": {
          "base_uri": "https://localhost:8080/"
        },
        "id": "xdRdI95_UnLu",
        "outputId": "74409220-1a33-4525-f1ac-be9ca8f0c544"
      },
      "outputs": [
        {
          "name": "stdout",
          "output_type": "stream",
          "text": [
            "[[0 1 0 1 1]\n",
            " [1 0 0 1 0]\n",
            " [0 0 0 0 1]\n",
            " [1 1 0 0 1]\n",
            " [1 0 1 1 0]]\n",
            "['A', 'B', 'C', 'D', 'E']\n"
          ]
        }
      ],
      "source": [
        "\"\"\"\n",
        "from google.colab import files\n",
        "uploaded = files.upload()\n",
        "print('uploaded = ', uploaded)\n",
        "\"\"\"\n",
        "A, person_names = generate_adjacency_matrix(\"social_network.txt\")\n",
        "print(A)\n",
        "print(person_names)"
      ]
    },
    {
      "cell_type": "code",
      "execution_count": 33,
      "metadata": {
        "id": "_xds654Yw6Ff"
      },
      "outputs": [],
      "source": [
        "# DO NOTE DELETE THIS CELL / WRITE YOUR CODE HERE\n",
        "# Task#2\n",
        "\n",
        "def get_degree_matrix(A):\n",
        "  # write your code here\n",
        "  D = np.diag(A.sum(axis=0))\n",
        "  return D"
      ]
    },
    {
      "cell_type": "code",
      "execution_count": 34,
      "metadata": {
        "colab": {
          "base_uri": "https://localhost:8080/"
        },
        "id": "27xLRQ13Yjb0",
        "outputId": "bef98fb4-f6ff-4524-db3c-8f50f809fa17"
      },
      "outputs": [
        {
          "name": "stdout",
          "output_type": "stream",
          "text": [
            "[[3 0 0 0 0]\n",
            " [0 2 0 0 0]\n",
            " [0 0 1 0 0]\n",
            " [0 0 0 3 0]\n",
            " [0 0 0 0 3]]\n"
          ]
        }
      ],
      "source": [
        "D = get_degree_matrix(A)\n",
        "print(D)"
      ]
    },
    {
      "cell_type": "code",
      "execution_count": 35,
      "metadata": {
        "id": "mZT3meYFZeXa"
      },
      "outputs": [],
      "source": [
        "# DO NOTE DELETE THIS CELL / WRITE YOUR CODE HERE\n",
        "# Task#3\n",
        "\n",
        "def get_names_with_highest_number_of_friends(D, person_names):\n",
        "  # write your code here\n",
        "  friends_sum = D.sum(axis=0)\n",
        "  highest_index = [index for index, item in enumerate(friends_sum) if item == max(friends_sum)]\n",
        "  all_max = [(person_names[index], index) for index in highest_index]\n",
        "  return all_max"
      ]
    },
    {
      "cell_type": "code",
      "execution_count": 36,
      "metadata": {
        "colab": {
          "base_uri": "https://localhost:8080/"
        },
        "id": "9CuAUZ83bQDp",
        "outputId": "a94b088e-c3a2-41fc-cfdd-86d3462e994b"
      },
      "outputs": [
        {
          "name": "stdout",
          "output_type": "stream",
          "text": [
            "[('A', 0), ('D', 3), ('E', 4)]\n"
          ]
        }
      ],
      "source": [
        "persons = get_names_with_highest_number_of_friends(D, person_names)\n",
        "print(persons)"
      ]
    },
    {
      "cell_type": "code",
      "execution_count": 37,
      "metadata": {
        "id": "ePneg4VEe03b"
      },
      "outputs": [],
      "source": [
        "# HELPER FUNCTION\n",
        "def get_liked_page_matrix(infile):\n",
        "  liked_pages = []\n",
        "  persons = []\n",
        "  fr = open(infile, 'r')\n",
        "  for line in fr:\n",
        "    name, bits = line.strip().split(',')\n",
        "    liked_page = [int(c) for c in bits]\n",
        "    liked_pages.append(liked_page)\n",
        "    persons.append(name)\n",
        "  liked_pages_array = np.array(liked_pages)\n",
        "  return liked_pages_array,persons"
      ]
    },
    {
      "cell_type": "code",
      "execution_count": 38,
      "metadata": {
        "colab": {
          "base_uri": "https://localhost:8080/"
        },
        "id": "iW6zJIFyiNCM",
        "outputId": "756fde61-f520-490f-fe77-1ad43f01adc2"
      },
      "outputs": [
        {
          "name": "stdout",
          "output_type": "stream",
          "text": [
            "[[0 1 0 1 1 1 0]\n",
            " [1 0 0 1 0 1 1]\n",
            " [0 0 0 0 1 0 1]\n",
            " [1 1 0 0 1 0 0]\n",
            " [0 1 1 1 0 1 0]]\n",
            "['A', 'B', 'C', 'D', 'E']\n"
          ]
        }
      ],
      "source": [
        "\"\"\"\n",
        "from google.colab import files\n",
        "uploaded = files.upload()\n",
        "print('uploaded = ', uploaded)\n",
        "\"\"\"\n",
        "liked_pages, persons = get_liked_page_matrix('liked_pages.txt')\n",
        "print(liked_pages)\n",
        "print(persons)\n"
      ]
    },
    {
      "cell_type": "code",
      "execution_count": 39,
      "metadata": {
        "id": "-eBjntKTjiVn"
      },
      "outputs": [
        {
          "data": {
            "text/plain": [
              "array([[0.        , 0.33333333, 0.2       , 0.4       , 0.6       ],\n",
              "       [0.33333333, 0.        , 0.2       , 0.16666667, 0.33333333],\n",
              "       [0.2       , 0.2       , 0.        , 0.25      , 0.        ],\n",
              "       [0.4       , 0.16666667, 0.25      , 0.        , 0.16666667],\n",
              "       [0.6       , 0.33333333, 0.        , 0.16666667, 0.        ]])"
            ]
          },
          "execution_count": 39,
          "metadata": {},
          "output_type": "execute_result"
        }
      ],
      "source": [
        "# DO NOTE DELETE THIS CELL / WRITE YOUR CODE HERE\n",
        "# Task#4\n",
        "\n",
        "def get_distance_matrix(Lp):\n",
        "  # write your code here\n",
        "  distance_matrix = np.zeros((Lp.shape[0], Lp.shape[0]), float)\n",
        "  for x, y in ((x,y) for x in range(distance_matrix.shape[0]) for y in range(distance_matrix.shape[0])):\n",
        "    a, b, c = 0, 0 ,0\n",
        "    for i, j in zip(Lp[x], Lp[y]):\n",
        "      if (i == 1): a += 1\n",
        "      if (j == 1): b += 1\n",
        "      if (i == j and i == 1): c += 1\n",
        "    distance_matrix[x, y] = (c / (a + b - c)) if not x == y else 0\n",
        "  return distance_matrix\n",
        "\n",
        "get_distance_matrix(liked_pages)"
      ]
    },
    {
      "cell_type": "code",
      "execution_count": 40,
      "metadata": {
        "colab": {
          "base_uri": "https://localhost:8080/"
        },
        "id": "NfCR8X3zjpvd",
        "outputId": "375b039c-51ce-4583-b99f-27d296a54672"
      },
      "outputs": [
        {
          "name": "stdout",
          "output_type": "stream",
          "text": [
            "[[0.         0.33333333 0.2        0.4        0.6       ]\n",
            " [0.33333333 0.         0.2        0.16666667 0.33333333]\n",
            " [0.2        0.2        0.         0.25       0.        ]\n",
            " [0.4        0.16666667 0.25       0.         0.16666667]\n",
            " [0.6        0.33333333 0.         0.16666667 0.        ]]\n"
          ]
        }
      ],
      "source": [
        "Dt = get_distance_matrix(liked_pages)\n",
        "print(Dt)"
      ]
    },
    {
      "cell_type": "code",
      "execution_count": 41,
      "metadata": {
        "id": "PkjAA2hw-I1i"
      },
      "outputs": [],
      "source": [
        "# DO NOTE DELETE THIS CELL / WRITE YOUR CODE HERE\n",
        "# Task#5\n",
        "\n",
        "def get_all_most_similar_pairs(Dt, persons):\n",
        "  # write your code here\n",
        "  pairs = []\n",
        "  x, y,  = np.unravel_index(Dt.argmax(), Dt.shape)\n",
        "  max_similar = Dt[x, y]\n",
        "  for x, y in ((x,y) for x in range(Dt.shape[0]) for y in range(Dt.shape[0])):\n",
        "    if (Dt[x, y] == max_similar):\n",
        "      pairs.append(sorted([persons[x], persons[y]]))\n",
        "  pairs = list(set(tuple(sorted(pair)) for pair in pairs))\n",
        "  return pairs"
      ]
    },
    {
      "cell_type": "code",
      "execution_count": 42,
      "metadata": {
        "colab": {
          "base_uri": "https://localhost:8080/"
        },
        "id": "NuCfMjXb-Z_R",
        "outputId": "6b820fcc-aac2-4663-9c65-9ec2f85a535f"
      },
      "outputs": [
        {
          "name": "stdout",
          "output_type": "stream",
          "text": [
            "[('A', 'E')]\n"
          ]
        }
      ],
      "source": [
        "pairs = get_all_most_similar_pairs(Dt, persons)\n",
        "print(pairs)"
      ]
    },
    {
      "cell_type": "code",
      "execution_count": 43,
      "metadata": {},
      "outputs": [
        {
          "name": "stdout",
          "output_type": "stream",
          "text": [
            "[[0 1 0 1 1]\n",
            " [1 0 0 1 0]\n",
            " [0 0 0 0 1]\n",
            " [1 1 0 0 1]\n",
            " [1 0 1 1 0]]\n",
            "['A', 'B', 'C', 'D', 'E']\n",
            "[[3 0 0 0 0]\n",
            " [0 2 0 0 0]\n",
            " [0 0 1 0 0]\n",
            " [0 0 0 3 0]\n",
            " [0 0 0 0 3]]\n",
            "['A', 'B', 'C', 'D', 'E']\n",
            "[[0 1 0 1 1 1 0]\n",
            " [1 0 0 1 0 1 1]\n",
            " [0 0 0 0 1 0 1]\n",
            " [1 1 0 0 1 0 0]\n",
            " [0 1 1 1 0 1 0]]\n",
            "['A', 'B', 'C', 'D', 'E']\n",
            "[[0.         0.33333333 0.2        0.4        0.6       ]\n",
            " [0.33333333 0.         0.2        0.16666667 0.33333333]\n",
            " [0.2        0.2        0.         0.25       0.        ]\n",
            " [0.4        0.16666667 0.25       0.         0.16666667]\n",
            " [0.6        0.33333333 0.         0.16666667 0.        ]]\n",
            "[('A', 'E')]\n"
          ]
        }
      ],
      "source": [
        "A, person_names = generate_adjacency_matrix(\"social_network.txt\")\n",
        "D = get_degree_matrix(A)\n",
        "persons = get_names_with_highest_number_of_friends(D, person_names)\n",
        "liked_pages, persons = get_liked_page_matrix('liked_pages.txt')\n",
        "Dt = get_distance_matrix(liked_pages)\n",
        "pairs = get_all_most_similar_pairs(Dt, persons)\n",
        "print(A)\n",
        "print(person_names)\n",
        "print(D)\n",
        "print(persons)\n",
        "print(liked_pages)\n",
        "print(persons)\n",
        "print(Dt)\n",
        "print(pairs)"
      ]
    }
  ],
  "metadata": {
    "colab": {
      "collapsed_sections": [],
      "provenance": []
    },
    "kernelspec": {
      "display_name": "Python 3.10.5 64-bit",
      "language": "python",
      "name": "python3"
    },
    "language_info": {
      "codemirror_mode": {
        "name": "ipython",
        "version": 3
      },
      "file_extension": ".py",
      "mimetype": "text/x-python",
      "name": "python",
      "nbconvert_exporter": "python",
      "pygments_lexer": "ipython3",
      "version": "3.10.5"
    },
    "vscode": {
      "interpreter": {
        "hash": "369f2c481f4da34e4445cda3fffd2e751bd1c4d706f27375911949ba6bb62e1c"
      }
    }
  },
  "nbformat": 4,
  "nbformat_minor": 0
}
